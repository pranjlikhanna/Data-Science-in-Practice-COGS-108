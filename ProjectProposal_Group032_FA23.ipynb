{
 "cells": [
  {
   "cell_type": "markdown",
   "metadata": {},
   "source": [
    "# COGS 108 - Project Proposal"
   ]
  },
  {
   "cell_type": "markdown",
   "metadata": {},
   "source": [
    "# Names\n",
    "\n",
    "- Bonan(Jack) Jia\n",
    "- Pranjli Khanna\n",
    "- Alexa Robertson\n",
    "- Eliana Rodriguez-Herrera\n",
    "- Victoria Yu"
   ]
  },
  {
   "cell_type": "markdown",
   "metadata": {},
   "source": [
    "# Research Question"
   ]
  },
  {
   "cell_type": "markdown",
   "metadata": {},
   "source": [
    "How does the sentiment analysis of job postings for “Data Scientist” correlate with the company’s overall rating on Glassdoor?"
   ]
  },
  {
   "cell_type": "markdown",
   "metadata": {},
   "source": [
    "## Background and Prior Work"
   ]
  },
  {
   "cell_type": "markdown",
   "metadata": {},
   "source": [
    "To job seekers, job postings provide crucial information about a job position and create the first impression of the employer. Based on the tone of the job posting, job seekers form assumptions about various aspects of the company, such as work culture, values, management, and more, helping them determine whether the position is suitable for them. Job seekers also evaluate whether a job posting aligns with their perception of the company when deciding to apply. According to a study conducted by LinkedIn, applicants are 2-4x less likely to apply for a job posting with a tone that doesn't match the company culture.<a name=\"cite_ref-1\"></a>[<sup>1</sup>](#cite_note-1)\n",
    "\n",
    "Given that job seekers make speculations about a company from the job posting, we wanted to use data insights to determine if there is a statistical relationship between the type of sentiment expressed in job postings and the overall satisfaction of employees working at the company. \n",
    "\n",
    "This research focuses specifically on data scientist positions, as they closely align with the interests of the research team. To collect data on job postings, we plan to use LinkedIn. For employee satisfaction ratings, we plan on using the overall company rating metric from Glassdoor. \n",
    "\n",
    "Prior to data collection and analysis, we conducted a review of similar studies and gathered information from the past to contribute additional background knowledge to the proposed research.\n",
    "\n",
    "A similar predictive study was conducted on a larger scale by Stanford University <a name=\"cite_ref-2\"></a>[<sup>2</sup>](#cite_note-2), where qualitative reviews were converted into quantitative metrics and used to predict the corresponding ratings on Glassdoor. The research findings indicated that their model had a 46.4% accuracy in using the sentiment of a review to predict the ratings on a scale from 1 to 5 stars. While our study will be conducted through a different method, the conclusion from this existing study serves as a reference for our study outcome, and further comparison and analysis could be done based on both conclusions. Another study looked into factors that potentially affect job satisfaction from Glassdoor reviews. <a name=\"cite_ref-3\"></a>[<sup>3</sup>](#cite_note-3) The study concluded that  “Culture and Values” and “Senior Management” factors have the highest influence on employees’ retention and turnover. This is valuable to our research because it indicates that sentimental syntax that implies or relates to “Culture and Values” and “Senior Management” might be more influential to the Glassdoor reviews.\n",
    "\n",
    "Based on our existing knowledge and experience in analyzing job postings and the available literature, we hypothesize that within our proposed research scope, there will be a correlation between the sentiment of job postings and the overall company rating.\n",
    "\n",
    "\n",
    "1. <a name=\"cite_note-1\"></a> [^](#cite_ref-1) 6 Stats That Will Change the Way You Write Job Posts. (2019). Linkedin.com. https://www.linkedin.com/business/talent/blog/talent-acquisition/stats-that-will-change-the-way-you-write-job-posts#:~:text=Keep%20it%20real%3A%20if%20the,your%20mind%20while%20you%20write\n",
    "2. <a name=\"cite_note-2\"></a> [^](#cite_ref-2) Frank, F.F., Whittle, T.E.. (n.d.) Predicting Company Ratings through Glassdoor Reviews. Retrieved from https://web.stanford.edu/class/archive/cs/cs224n/cs224n.1184/reports/6880837.pdf\n",
    "3. <a name=\"cite_note-3\"></a> [^](#cite_ref-3) Lee, J., & Kang, J. (2017). A Study on Job Satisfaction Factors in Retention and Turnover Groups using Dominance Analysis and LDA Topic Modeling with Employee Reviews on Glassdoor.com. In ICIS 2017 Proceedings (p. 26). https://aisel.aisnet.org/icis2017/DataScience/Presentations/26/\n"
   ]
  },
  {
   "cell_type": "markdown",
   "metadata": {},
   "source": [
    "# Hypothesis\n"
   ]
  },
  {
   "cell_type": "markdown",
   "metadata": {},
   "source": [
    "Null Hypothesis (H0): The sentiment expressed in data scientist job postings do not have a statistically significant correlation with the corresponding company’s ratings on Glassdoor.\n",
    "\n",
    "Alternative Hypothesis (H1): The sentiment expressed in data scientist job postings do have a statistically significant correlation with the corresponding company’s ratings on Glassdoor.\n",
    "\n",
    "We believe that there is a correlation between the two since job postings are strategically worded to reflect the company’s image. The previous studies also support our hypothesis since they suggested that a correlation between job postings and company reviews exists. "
   ]
  },
  {
   "cell_type": "markdown",
   "metadata": {},
   "source": [
    "# Data"
   ]
  },
  {
   "cell_type": "markdown",
   "metadata": {},
   "source": [
    "The ideal dataset for job postings would include the job title, the description, the rating of the overall company, the name of the company, and sentiment analysis metrics on the description. \n",
    "\n",
    "In terms of observations, 1500 rows of datasets would be reasonable since it is enough to get a clear correlation between our desired variables. These data columns, except the tone of the description, would be obtained from an existing dataset. Metrics on the tone analysis of the posting description would be generated by using a sentiment analysis package in Python. All this data would finally be incorporated into a new dataset structured via a dataframe. \n",
    "\n",
    "Potential Real Datasets Name: Glassdoor Data Science Job Listings\n",
    "- Link: https://www.kaggle.com/datasets/rrkcoder/glassdoor-data-science-job-listings/data\n",
    "- Number of observations: 1500\n",
    "\n",
    "This real dataset has almost everything we need but it includes ten columns in total with many extra information, such as the location, the salary estimate, and the size of the company. This would be fine as we could reach out desired data through the cleaning process and get our sentiment analysis metrics by performing the algorithms embedded in Python; thus, we could finally combine these information together to have our targeted dataframe.\n",
    "\n",
    "\n"
   ]
  },
  {
   "cell_type": "markdown",
   "metadata": {},
   "source": [
    "# Ethics & Privacy"
   ]
  },
  {
   "cell_type": "markdown",
   "metadata": {},
   "source": [
    "The data that we proposed does not raise any privacy or terms of use concerns since the dataset is publicly available on Kaggle. The dataset includes job postings from Glassdoor, which were directly scraped from the Glassdoor website and do not include any sensitive information about the company, the job position, or personal information about the reviewers. \n",
    "\n",
    "According to Glassdoor, the aggregate company rating is determined using user-submitted reviews: “Company ratings on Glassdoor are determined by recent employee feedback. Glassdoor calculates company ratings using a proprietary rating algorithm, with an emphasis on the recency of reviews” <a name=\"cite_note-4\"></a>[<sup>4</sup>](#cite_note-4)\n",
    "\n",
    "These reviews do not include any personally identifying information, as this goes against Glassdoor’s Community Guidelines: “To safeguard privacy, we do not allow you to identify yourself or include any contact information (about yourself or others) in your reviews”  <a name=\"cite_note-5\"></a>[<sup>5</sup>](#cite_note-5)\n",
    "\n",
    "Thus, this dataset does not contain any user-specific information and we are committed to safeguarding user privacy in our analysis. \n",
    "\n",
    "**Limitations**\n",
    "\n",
    "We acknowledge that job descriptions can carry inherent biases and they may not holistically represent the company’s environment. However, we are treating these biases as part of the research question itself and intend to measure their impact on our findings.\n",
    "\n",
    "Our use of the sentiment analysis algorithm embedded in Python to determine the sentiment of job postings introduces ethical considerations. The model may have biases or inaccuracies in detecting sentiments and since we cannot really know how the code in this model was written, its inaccuracies are a limitation of our research. Even though we could manually alter some critical factors in the model, it would be still worth considering the potential issues in the algorithm.\n",
    "\n",
    "In our research, we only focus on “Data Scientist” roles so our research is not representative of all positions and industries. We acknowledge that the job Data Scientist roles might not be indicative of the company culture at large in some companies but we are including that limitation in our research question by judging the companies on the Data Scientist job postings exclusively.\n",
    "\n",
    "Also, our data only includes job descriptions of companies across the United States. Hence, our findings are not applicable to geographical regions beyond the United States. \n",
    "\n",
    "4. <a name=\"cite_note-4\"></a> [^](#cite_ref-4) Glassdoor Help Center. (2023). Glassdoor.com. https://help.glassdoor.com/s/article/Ratings-on-Glassdoor?language=en_US\n",
    "4. <a name=\"cite_note-5\"></a> [^](#cite-ref-5) Glassdoor Help Center. (2023). Glassdoor.com. https://help.glassdoor.com/s/article/Community-Guidelines?language=en_US"
   ]
  },
  {
   "cell_type": "markdown",
   "metadata": {},
   "source": [
    "# Team Expectations "
   ]
  },
  {
   "cell_type": "markdown",
   "metadata": {},
   "source": [
    "- The team will communicate regularly both virtually and in person. We plan to be connected on Discord and meet weekly via Zoom. We also plan to meet in-person frequently to stay connected and to compile our work before submission. \n",
    "- If conflicts arise, we plan to resolve them systematically through a voting system whereby we will take all major decisions by majority vote in case there is no consensus.\n",
    "- We plan to each work together and to contribute to all assignments. We plan to divide work and then committedly complete the assigned work within the designated time period. \n",
    "- In case there is an emergency or something so that a particular member of the group is unavailable, we agree to communicate so that some of the other group members can cover their work so that the quality of our submission does not suffer.  \n",
    "\n"
   ]
  },
  {
   "cell_type": "markdown",
   "metadata": {},
   "source": [
    "# Project Timeline Proposal"
   ]
  },
  {
   "cell_type": "markdown",
   "metadata": {},
   "source": [
    "| Meeting Date  | Meeting Time| Completed Before Meeting  | Discuss at Meeting |\n",
    "|---|---|---|---|\n",
    "| 10/23  |  4:30 PM | None  | Complete project review assignment| \n",
    "| 10/27  |  9:30 AM | Project review  | Decide research topic; search for possible datasets; draft project proposal\n",
    "| 10/29  | 3:00 PM  | Ask TA for advice on current ideas  | Search for datasets; edit and finalize proposal   |\n",
    "| 10/31  | 6:00 PM  | Finish assigned sections in proposal | Finalize and submit proposal   |\n",
    "| 11/1  | tbd  | Project proposal (DUE 11:59PM) | Discuss Wrangling and possible analytical approaches; Assign group members to lead each specific part |\n",
    "| 11/8  | tbd  | tbd | tbd |\n",
    "| 11/15  | tbd  | Data checkpoint (DUE 11:59PM) | tbd |\n",
    "| 11/22  | tbd  | tbd | tbd |\n",
    "| 11/29  | tbd  | EDA checkpoint (DUE 11:59PM) | tbd |\n",
    "| 12/6  | tbd  | tbd | tbd |\n",
    "| 12/13  | tbd  | Final project + video (DUE 11:59PM) | Finalize and submit |"
   ]
  }
 ],
 "metadata": {
  "kernelspec": {
   "display_name": "python3",
   "language": "python",
   "name": "python3"
  }
 },
 "nbformat": 4,
 "nbformat_minor": 2
}
